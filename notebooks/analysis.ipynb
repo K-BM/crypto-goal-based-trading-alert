{
 "cells": [
  {
   "cell_type": "code",
   "execution_count": 172,
   "id": "887c4786",
   "metadata": {},
   "outputs": [],
   "source": [
    "from binance.client import Client\n",
    "import pandas as pd\n",
    "import numpy as np\n",
    "import pytz\n",
    "from ta.momentum import RSIIndicator, StochasticOscillator\n",
    "from ta.trend import MACD, SMAIndicator\n",
    "from ta.volatility import BollingerBands\n",
    "from datetime import datetime, timedelta\n",
    "import time\n",
    "from sklearn.preprocessing import MinMaxScaler\n",
    "from sklearn.model_selection import train_test_split\n",
    "\n",
    "from keras.models import Sequential\n",
    "from keras.layers import LSTM, Dense, Dropout"
   ]
  },
  {
   "cell_type": "code",
   "execution_count": 150,
   "id": "21b1a097",
   "metadata": {},
   "outputs": [],
   "source": [
    "API_KEY = 'your_api_key'\n",
    "API_SECRET = 'your_api_secret'\n",
    "\n",
    "client = Client(API_KEY, API_SECRET)\n",
    "\n",
    "client = Client()  # initialize Binance client\n",
    "riyadh = pytz.timezone(\"Asia/Riyadh\")"
   ]
  },
  {
   "cell_type": "code",
   "execution_count": 151,
   "id": "6c548a7b",
   "metadata": {},
   "outputs": [],
   "source": [
    "# Function to fetch full 1-hour data from Binance\n",
    "def get_full_1h_data(symbol=\"BTCUSDT\", start_str=\"1 Jan 2015\", end_time=None):\n",
    "    # If end_time is not passed, use current time\n",
    "    if end_time is None:\n",
    "        end_time = datetime.now(riyadh)\n",
    "\n",
    "    start_ts = int(pd.to_datetime(start_str).timestamp() * 1000)  # Convert start date to timestamp in ms\n",
    "    data = []\n",
    "\n",
    "    print(\"Fetching data... This may take a while ⏳\")\n",
    "\n",
    "    while True:\n",
    "        # Fetch data in 1000-candle chunks for 1-hour interval\n",
    "        candles = client.get_klines(symbol=symbol, interval=Client.KLINE_INTERVAL_1HOUR,\n",
    "                                    startTime=start_ts, limit=1000)\n",
    "        if not candles:\n",
    "            break\n",
    "\n",
    "        df = pd.DataFrame(candles, columns=[\n",
    "            'timestamp', 'open', 'high', 'low', 'close', 'volume',\n",
    "            'close_time', 'quote_asset_volume', 'number_of_trades',\n",
    "            'taker_buy_base_volume', 'taker_buy_quote_volume', 'ignore'\n",
    "        ])\n",
    "        df['timestamp'] = pd.to_datetime(df['timestamp'], unit='ms', utc=True)  # Convert from ms\n",
    "        df['timestamp'] = df['timestamp'].dt.tz_convert('Asia/Riyadh')  # Convert to Riyadh timezone\n",
    "        df.set_index('timestamp', inplace=True)\n",
    "        df = df.astype(float)\n",
    "        data.append(df[['open', 'high', 'low', 'close', 'volume']])\n",
    "\n",
    "        # Update the start timestamp for the next loop to continue fetching data\n",
    "        start_ts = int((df.index[-1] + timedelta(hours=1)).timestamp() * 1000)\n",
    "\n",
    "        # Break the loop if we've reached the end_time\n",
    "        if df.index[-1] >= end_time:\n",
    "            break\n",
    "\n",
    "        time.sleep(0.3)  # Be respectful of Binance API rate limits\n",
    "\n",
    "    all_data = pd.concat(data)\n",
    "    all_data = all_data[~all_data.index.duplicated(keep='first')]  # Remove duplicate timestamps\n",
    "    return all_data\n",
    "\n",
    "# Function to add technical indicators to the data\n",
    "def add_technical_indicators(df):\n",
    "    # MACD (12, 26, 9)\n",
    "    macd = MACD(close=df['close'], window_slow=26, window_fast=12, window_sign=9)\n",
    "    df['macd'] = macd.macd()\n",
    "    df['macd_signal'] = macd.macd_signal()\n",
    "    df['macd_diff'] = macd.macd_diff()\n",
    "\n",
    "    # RSI (14)\n",
    "    rsi = RSIIndicator(close=df['close'], window=14)\n",
    "    df['rsi'] = rsi.rsi()\n",
    "\n",
    "    # Stochastic Oscillator (14, 1, 3)\n",
    "    stoch = StochasticOscillator(high=df['high'], low=df['low'], close=df['close'], window=14, smooth_window=3)\n",
    "    df['stoch_k'] = stoch.stoch()\n",
    "    df['stoch_d'] = stoch.stoch_signal()\n",
    "\n",
    "    # Moving Averages\n",
    "    df['ma_9'] = SMAIndicator(close=df['close'], window=9).sma_indicator()\n",
    "    df['ma_50'] = SMAIndicator(close=df['close'], window=50).sma_indicator()\n",
    "    df['ma_100'] = SMAIndicator(close=df['close'], window=100).sma_indicator()\n",
    "    df['ma_200'] = SMAIndicator(close=df['close'], window=200).sma_indicator()\n",
    "\n",
    "    # Bollinger Bands (20-period, 2 std)\n",
    "    bb = BollingerBands(close=df['close'], window=20, window_dev=2)\n",
    "    df['bb_upper'] = bb.bollinger_hband()\n",
    "    df['bb_lower'] = bb.bollinger_lband()\n",
    "    df['bb_middle'] = bb.bollinger_mavg()\n",
    "    df['bb_width'] = bb.bollinger_wband()\n",
    "\n",
    "    return df"
   ]
  },
  {
   "cell_type": "code",
   "execution_count": 152,
   "id": "6c1346e2",
   "metadata": {},
   "outputs": [
    {
     "name": "stdout",
     "output_type": "stream",
     "text": [
      "Fetching data... This may take a while ⏳\n"
     ]
    }
   ],
   "source": [
    "# Example usage:\n",
    "symbol = \"BTCUSDT\"\n",
    "start_str = \"1 Jan 2015\"\n",
    "df = get_full_1h_data(symbol=symbol, start_str=start_str, end_time=datetime.now(riyadh))"
   ]
  },
  {
   "cell_type": "code",
   "execution_count": 154,
   "id": "65a6ac3e",
   "metadata": {},
   "outputs": [],
   "source": [
    "df = add_technical_indicators(df)"
   ]
  },
  {
   "cell_type": "code",
   "execution_count": 156,
   "id": "dd1b019b",
   "metadata": {},
   "outputs": [],
   "source": [
    "# Remove rows with any missing values\n",
    "df.dropna(inplace=True)"
   ]
  },
  {
   "cell_type": "code",
   "execution_count": 257,
   "id": "24ee7701",
   "metadata": {},
   "outputs": [],
   "source": [
    "features = ['open', 'high', 'low', 'close', 'volume', 'macd', 'macd_signal', \n",
    "            'macd_diff', 'rsi', 'stoch_k', 'stoch_d', 'ma_9', 'ma_50', 'ma_100', \n",
    "            'ma_200', 'bb_upper', 'bb_lower', 'bb_middle', 'bb_width']"
   ]
  },
  {
   "cell_type": "code",
   "execution_count": 263,
   "id": "3b04d5b1",
   "metadata": {},
   "outputs": [
    {
     "data": {
      "text/plain": [
       "DatetimeIndex(['2025-04-19 18:00:00+03:00'], dtype='datetime64[ns, Asia/Riyadh]', name='timestamp', freq=None)"
      ]
     },
     "execution_count": 263,
     "metadata": {},
     "output_type": "execute_result"
    }
   ],
   "source": [
    "df.tail(1).index"
   ]
  },
  {
   "cell_type": "code",
   "execution_count": 157,
   "id": "64bc2528",
   "metadata": {},
   "outputs": [],
   "source": [
    "# Select the features you want to normalize\n",
    "features = ['open', 'high', 'low', 'close', 'volume', 'macd', 'macd_signal', \n",
    "            'macd_diff', 'rsi', 'stoch_k', 'stoch_d', 'ma_9', 'ma_50', 'ma_100', \n",
    "            'ma_200', 'bb_upper', 'bb_lower', 'bb_middle', 'bb_width']\n",
    "\n",
    "# Initialize MinMaxScaler\n",
    "scaler = MinMaxScaler()\n",
    "\n",
    "# Normalize the selected features\n",
    "df[features] = scaler.fit_transform(df[features])"
   ]
  },
  {
   "cell_type": "code",
   "execution_count": 158,
   "id": "e065d98b",
   "metadata": {},
   "outputs": [],
   "source": [
    "def create_sequences(df, time_steps, forecast_horizon):\n",
    "    \"\"\"\n",
    "    Creates sequences for LSTM. \n",
    "    :param df: DataFrame with historical data.\n",
    "    :param time_steps: Number of past time steps to use for prediction.\n",
    "    :param forecast_horizon: Number of time steps to predict (e.g., 5, 15, 30 minutes, etc.).\n",
    "    :return: X, y arrays for LSTM.\n",
    "    \"\"\"\n",
    "    X = []\n",
    "    y = []\n",
    "    \n",
    "    # Selecting columns excluding 'close' for features in X\n",
    "    feature_columns = [col for col in df.columns if col != 'close']\n",
    "    \n",
    "    # Adjust the range to ensure X and y are properly aligned with df\n",
    "    for i in range(time_steps, len(df) - forecast_horizon + 1):  # Correct range\n",
    "        # Generate the sequence for the input features (X)\n",
    "        X.append(df.iloc[i - time_steps + 1:i+1][feature_columns].values)\n",
    "        # Target value (y) is the value of 'close' at the forecasted time step\n",
    "        y.append(df.iloc[i + forecast_horizon - 1]['close'])\n",
    "\n",
    "    \n",
    "    return np.array(X), np.array(y)\n"
   ]
  },
  {
   "cell_type": "code",
   "execution_count": 248,
   "id": "972dc506",
   "metadata": {},
   "outputs": [
    {
     "name": "stdout",
     "output_type": "stream",
     "text": [
      "X shape: (66909, 24, 18)\n",
      "y shape: (66909,)\n"
     ]
    }
   ],
   "source": [
    "time_steps = 24  # Using the last 6 hourly data points (6 hours of data)\n",
    "forecast_horizon = 1  # Forecast for the next hour\n",
    "\n",
    "# Create sequences for this forecast horizon\n",
    "X, y = create_sequences(df, time_steps, forecast_horizon)\n",
    "\n",
    "# Validate the output by checking the shape of X and y\n",
    "print(f\"X shape: {X.shape}\")\n",
    "print(f\"y shape: {y.shape}\")\n"
   ]
  },
  {
   "cell_type": "code",
   "execution_count": 249,
   "id": "55ba7240",
   "metadata": {},
   "outputs": [
    {
     "name": "stdout",
     "output_type": "stream",
     "text": [
      "X_train shape: (53527, 24, 18)\n",
      "X_test shape: (13382, 24, 18)\n",
      "y_train shape: (53527,)\n",
      "y_test shape: (13382,)\n"
     ]
    }
   ],
   "source": [
    "# Split the data into train and test sets (80% train, 20% test)\n",
    "X_train, X_test, y_train, y_test = train_test_split(X, y, test_size=0.2, shuffle=False)\n",
    "\n",
    "print(f\"X_train shape: {X_train.shape}\")\n",
    "print(f\"X_test shape: {X_test.shape}\")\n",
    "print(f\"y_train shape: {y_train.shape}\")\n",
    "print(f\"y_test shape: {y_test.shape}\")"
   ]
  },
  {
   "cell_type": "code",
   "execution_count": 250,
   "id": "e2e1cebf",
   "metadata": {},
   "outputs": [
    {
     "name": "stderr",
     "output_type": "stream",
     "text": [
      "UserWarning: Do not pass an `input_shape`/`input_dim` argument to a layer. When using Sequential models, prefer using an `Input(shape)` object as the first layer in the model instead.\n"
     ]
    },
    {
     "data": {
      "text/html": [
       "<pre style=\"white-space:pre;overflow-x:auto;line-height:normal;font-family:Menlo,'DejaVu Sans Mono',consolas,'Courier New',monospace\"><span style=\"font-weight: bold\">Model: \"sequential_9\"</span>\n",
       "</pre>\n"
      ],
      "text/plain": [
       "\u001b[1mModel: \"sequential_9\"\u001b[0m\n"
      ]
     },
     "metadata": {},
     "output_type": "display_data"
    },
    {
     "data": {
      "text/html": [
       "<pre style=\"white-space:pre;overflow-x:auto;line-height:normal;font-family:Menlo,'DejaVu Sans Mono',consolas,'Courier New',monospace\">┏━━━━━━━━━━━━━━━━━━━━━━━━━━━━━━━━━┳━━━━━━━━━━━━━━━━━━━━━━━━┳━━━━━━━━━━━━━━━┓\n",
       "┃<span style=\"font-weight: bold\"> Layer (type)                    </span>┃<span style=\"font-weight: bold\"> Output Shape           </span>┃<span style=\"font-weight: bold\">       Param # </span>┃\n",
       "┡━━━━━━━━━━━━━━━━━━━━━━━━━━━━━━━━━╇━━━━━━━━━━━━━━━━━━━━━━━━╇━━━━━━━━━━━━━━━┩\n",
       "│ lstm_9 (<span style=\"color: #0087ff; text-decoration-color: #0087ff\">LSTM</span>)                   │ (<span style=\"color: #00d7ff; text-decoration-color: #00d7ff\">None</span>, <span style=\"color: #00af00; text-decoration-color: #00af00\">50</span>)             │        <span style=\"color: #00af00; text-decoration-color: #00af00\">13,800</span> │\n",
       "├─────────────────────────────────┼────────────────────────┼───────────────┤\n",
       "│ dropout_9 (<span style=\"color: #0087ff; text-decoration-color: #0087ff\">Dropout</span>)             │ (<span style=\"color: #00d7ff; text-decoration-color: #00d7ff\">None</span>, <span style=\"color: #00af00; text-decoration-color: #00af00\">50</span>)             │             <span style=\"color: #00af00; text-decoration-color: #00af00\">0</span> │\n",
       "├─────────────────────────────────┼────────────────────────┼───────────────┤\n",
       "│ dense_9 (<span style=\"color: #0087ff; text-decoration-color: #0087ff\">Dense</span>)                 │ (<span style=\"color: #00d7ff; text-decoration-color: #00d7ff\">None</span>, <span style=\"color: #00af00; text-decoration-color: #00af00\">1</span>)              │            <span style=\"color: #00af00; text-decoration-color: #00af00\">51</span> │\n",
       "└─────────────────────────────────┴────────────────────────┴───────────────┘\n",
       "</pre>\n"
      ],
      "text/plain": [
       "┏━━━━━━━━━━━━━━━━━━━━━━━━━━━━━━━━━┳━━━━━━━━━━━━━━━━━━━━━━━━┳━━━━━━━━━━━━━━━┓\n",
       "┃\u001b[1m \u001b[0m\u001b[1mLayer (type)                   \u001b[0m\u001b[1m \u001b[0m┃\u001b[1m \u001b[0m\u001b[1mOutput Shape          \u001b[0m\u001b[1m \u001b[0m┃\u001b[1m \u001b[0m\u001b[1m      Param #\u001b[0m\u001b[1m \u001b[0m┃\n",
       "┡━━━━━━━━━━━━━━━━━━━━━━━━━━━━━━━━━╇━━━━━━━━━━━━━━━━━━━━━━━━╇━━━━━━━━━━━━━━━┩\n",
       "│ lstm_9 (\u001b[38;5;33mLSTM\u001b[0m)                   │ (\u001b[38;5;45mNone\u001b[0m, \u001b[38;5;34m50\u001b[0m)             │        \u001b[38;5;34m13,800\u001b[0m │\n",
       "├─────────────────────────────────┼────────────────────────┼───────────────┤\n",
       "│ dropout_9 (\u001b[38;5;33mDropout\u001b[0m)             │ (\u001b[38;5;45mNone\u001b[0m, \u001b[38;5;34m50\u001b[0m)             │             \u001b[38;5;34m0\u001b[0m │\n",
       "├─────────────────────────────────┼────────────────────────┼───────────────┤\n",
       "│ dense_9 (\u001b[38;5;33mDense\u001b[0m)                 │ (\u001b[38;5;45mNone\u001b[0m, \u001b[38;5;34m1\u001b[0m)              │            \u001b[38;5;34m51\u001b[0m │\n",
       "└─────────────────────────────────┴────────────────────────┴───────────────┘\n"
      ]
     },
     "metadata": {},
     "output_type": "display_data"
    },
    {
     "data": {
      "text/html": [
       "<pre style=\"white-space:pre;overflow-x:auto;line-height:normal;font-family:Menlo,'DejaVu Sans Mono',consolas,'Courier New',monospace\"><span style=\"font-weight: bold\"> Total params: </span><span style=\"color: #00af00; text-decoration-color: #00af00\">13,851</span> (54.11 KB)\n",
       "</pre>\n"
      ],
      "text/plain": [
       "\u001b[1m Total params: \u001b[0m\u001b[38;5;34m13,851\u001b[0m (54.11 KB)\n"
      ]
     },
     "metadata": {},
     "output_type": "display_data"
    },
    {
     "data": {
      "text/html": [
       "<pre style=\"white-space:pre;overflow-x:auto;line-height:normal;font-family:Menlo,'DejaVu Sans Mono',consolas,'Courier New',monospace\"><span style=\"font-weight: bold\"> Trainable params: </span><span style=\"color: #00af00; text-decoration-color: #00af00\">13,851</span> (54.11 KB)\n",
       "</pre>\n"
      ],
      "text/plain": [
       "\u001b[1m Trainable params: \u001b[0m\u001b[38;5;34m13,851\u001b[0m (54.11 KB)\n"
      ]
     },
     "metadata": {},
     "output_type": "display_data"
    },
    {
     "data": {
      "text/html": [
       "<pre style=\"white-space:pre;overflow-x:auto;line-height:normal;font-family:Menlo,'DejaVu Sans Mono',consolas,'Courier New',monospace\"><span style=\"font-weight: bold\"> Non-trainable params: </span><span style=\"color: #00af00; text-decoration-color: #00af00\">0</span> (0.00 B)\n",
       "</pre>\n"
      ],
      "text/plain": [
       "\u001b[1m Non-trainable params: \u001b[0m\u001b[38;5;34m0\u001b[0m (0.00 B)\n"
      ]
     },
     "metadata": {},
     "output_type": "display_data"
    }
   ],
   "source": [
    "import random\n",
    "import tensorflow as tf\n",
    "\n",
    "# Set random seeds for reproducibility\n",
    "def set_random_seed(seed=42):\n",
    "    np.random.seed(seed)  # For numpy\n",
    "    random.seed(seed)  # For python's random module\n",
    "    tf.random.set_seed(seed)  # For TensorFlow\n",
    "\n",
    "set_random_seed(42)  # You can change the seed to any integer\n",
    "\n",
    "# Build the LSTM model\n",
    "model = Sequential()\n",
    "\n",
    "# Add LSTM layer (units = 50, input shape based on X_train)\n",
    "model.add(LSTM(units=50, return_sequences=False, input_shape=(X_train.shape[1], X_train.shape[2])))\n",
    "\n",
    "# Add a dropout layer to prevent overfitting\n",
    "# Add dropout layer with higher rate\n",
    "model.add(Dropout(0.2))\n",
    "\n",
    "# Add output layer\n",
    "model.add(Dense(units=1))  # Single unit for regression (predicting a single value)\n",
    "\n",
    "# Compile the model\n",
    "model.compile(optimizer='adam', loss='mean_squared_error')\n",
    "\n",
    "# Summarize the model\n",
    "model.summary()\n"
   ]
  },
  {
   "cell_type": "code",
   "execution_count": 251,
   "id": "a50c1db1",
   "metadata": {},
   "outputs": [
    {
     "name": "stdout",
     "output_type": "stream",
     "text": [
      "Epoch 1/5\n",
      "\u001b[1m1673/1673\u001b[0m \u001b[32m━━━━━━━━━━━━━━━━━━━━\u001b[0m\u001b[37m\u001b[0m \u001b[1m11s\u001b[0m 5ms/step - loss: 0.0059 - val_loss: 0.0039\n",
      "Epoch 2/5\n",
      "\u001b[1m1673/1673\u001b[0m \u001b[32m━━━━━━━━━━━━━━━━━━━━\u001b[0m\u001b[37m\u001b[0m \u001b[1m9s\u001b[0m 5ms/step - loss: 2.7285e-04 - val_loss: 0.0012\n",
      "Epoch 3/5\n",
      "\u001b[1m1673/1673\u001b[0m \u001b[32m━━━━━━━━━━━━━━━━━━━━\u001b[0m\u001b[37m\u001b[0m \u001b[1m9s\u001b[0m 5ms/step - loss: 1.9553e-04 - val_loss: 0.0011\n",
      "Epoch 4/5\n",
      "\u001b[1m1673/1673\u001b[0m \u001b[32m━━━━━━━━━━━━━━━━━━━━\u001b[0m\u001b[37m\u001b[0m \u001b[1m9s\u001b[0m 6ms/step - loss: 1.7349e-04 - val_loss: 3.1788e-04\n",
      "Epoch 5/5\n",
      "\u001b[1m1673/1673\u001b[0m \u001b[32m━━━━━━━━━━━━━━━━━━━━\u001b[0m\u001b[37m\u001b[0m \u001b[1m9s\u001b[0m 6ms/step - loss: 1.5021e-04 - val_loss: 4.1368e-04\n"
     ]
    }
   ],
   "source": [
    "# Train the model\n",
    "history = model.fit(X_train, y_train, epochs=5, batch_size=32, validation_data=(X_test, y_test))\n"
   ]
  },
  {
   "cell_type": "code",
   "execution_count": 252,
   "id": "b3d2f3ad",
   "metadata": {},
   "outputs": [
    {
     "data": {
      "image/png": "[encoded data removed]",
      "text/plain": [
       "<Figure size 640x480 with 1 Axes>"
      ]
     },
     "metadata": {},
     "output_type": "display_data"
    }
   ],
   "source": [
    "import matplotlib.pyplot as plt\n",
    "\n",
    "plt.plot(history.history['loss'], label='Train Loss')\n",
    "plt.plot(history.history['val_loss'], label='Validation Loss')\n",
    "plt.xlabel('Epochs')\n",
    "plt.ylabel('Loss')\n",
    "plt.legend()\n",
    "plt.title('Training and Validation Loss')\n",
    "plt.show()\n"
   ]
  },
  {
   "cell_type": "code",
   "execution_count": 253,
   "id": "3e89273f",
   "metadata": {},
   "outputs": [
    {
     "name": "stdout",
     "output_type": "stream",
     "text": [
      "\u001b[1m1/1\u001b[0m \u001b[32m━━━━━━━━━━━━━━━━━━━━\u001b[0m\u001b[37m\u001b[0m \u001b[1m0s\u001b[0m 159ms/step\n"
     ]
    },
    {
     "data": {
      "text/plain": [
       "array([[0.7727362]], dtype=float32)"
      ]
     },
     "execution_count": 253,
     "metadata": {},
     "output_type": "execute_result"
    }
   ],
   "source": [
    "last_time_steps = X_test[-1:].reshape(1, X_test.shape[1], X_test.shape[2])\n",
    "next_prediction = model.predict(last_time_steps)\n",
    "next_prediction"
   ]
  },
  {
   "cell_type": "code",
   "execution_count": 254,
   "id": "27381da7",
   "metadata": {},
   "outputs": [
    {
     "data": {
      "text/plain": [
       "(timestamp\n",
       " 2025-04-19 13:00:00+03:00    0.781122\n",
       " 2025-04-19 14:00:00+03:00    0.780812\n",
       " 2025-04-19 15:00:00+03:00    0.781553\n",
       " 2025-04-19 16:00:00+03:00    0.783233\n",
       " 2025-04-19 17:00:00+03:00    0.782688\n",
       " 2025-04-19 18:00:00+03:00    0.784712\n",
       " Name: close, dtype: float64,\n",
       " array([[0.7727362]], dtype=float32))"
      ]
     },
     "execution_count": 254,
     "metadata": {},
     "output_type": "execute_result"
    }
   ],
   "source": [
    "df['close'].tail(6) , next_prediction"
   ]
  },
  {
   "cell_type": "code",
   "execution_count": 255,
   "id": "5994242e",
   "metadata": {},
   "outputs": [
    {
     "name": "stdout",
     "output_type": "stream",
     "text": [
      "Predicted 'close' value (original scale): 84355.23595741988\n"
     ]
    }
   ],
   "source": [
    "# The prediction is a scaled value of 'close'\n",
    "predicted_scaled_close = next_prediction[0][0]\n",
    "\n",
    "# To reverse the scaling, we need to reshape the prediction for the inverse transform\n",
    "# We are only interested in the 'close' feature, so we reverse the scaling of just that feature\n",
    "# Reverse scaling (since the scaler was fitted on all features)\n",
    "predicted_close_original = scaler.inverse_transform(\n",
    "    np.array([[predicted_scaled_close] + [0]*(len(features)-1)]))  # Add 0's for other features\n",
    "\n",
    "# Print the original predicted close value (unscaled)\n",
    "print(f\"Predicted 'close' value (original scale): {predicted_close_original[0][0]}\")"
   ]
  },
  {
   "cell_type": "code",
   "execution_count": null,
   "id": "f77f0471",
   "metadata": {},
   "outputs": [
    {
     "data": {
      "text/html": [
       "<div>\n",
       "<style scoped>\n",
       "    .dataframe tbody tr th:only-of-type {\n",
       "        vertical-align: middle;\n",
       "    }\n",
       "\n",
       "    .dataframe tbody tr th {\n",
       "        vertical-align: top;\n",
       "    }\n",
       "\n",
       "    .dataframe thead th {\n",
       "        text-align: right;\n",
       "    }\n",
       "</style>\n",
       "<table border=\"1\" class=\"dataframe\">\n",
       "  <thead>\n",
       "    <tr style=\"text-align: right;\">\n",
       "      <th></th>\n",
       "      <th>open</th>\n",
       "      <th>high</th>\n",
       "      <th>low</th>\n",
       "      <th>close</th>\n",
       "      <th>volume</th>\n",
       "      <th>macd</th>\n",
       "      <th>macd_signal</th>\n",
       "      <th>macd_diff</th>\n",
       "      <th>rsi</th>\n",
       "      <th>stoch_k</th>\n",
       "      <th>stoch_d</th>\n",
       "      <th>ma_9</th>\n",
       "      <th>ma_50</th>\n",
       "      <th>ma_100</th>\n",
       "      <th>ma_200</th>\n",
       "      <th>bb_upper</th>\n",
       "      <th>bb_lower</th>\n",
       "      <th>bb_middle</th>\n",
       "      <th>bb_width</th>\n",
       "    </tr>\n",
       "    <tr>\n",
       "      <th>timestamp</th>\n",
       "      <th></th>\n",
       "      <th></th>\n",
       "      <th></th>\n",
       "      <th></th>\n",
       "      <th></th>\n",
       "      <th></th>\n",
       "      <th></th>\n",
       "      <th></th>\n",
       "      <th></th>\n",
       "      <th></th>\n",
       "      <th></th>\n",
       "      <th></th>\n",
       "      <th></th>\n",
       "      <th></th>\n",
       "      <th></th>\n",
       "      <th></th>\n",
       "      <th></th>\n",
       "      <th></th>\n",
       "      <th></th>\n",
       "    </tr>\n",
       "  </thead>\n",
       "  <tbody>\n",
       "    <tr>\n",
       "      <th>2025-04-19 18:00:00+03:00</th>\n",
       "      <td>0.782787</td>\n",
       "      <td>0.775783</td>\n",
       "      <td>0.785949</td>\n",
       "      <td>0.784712</td>\n",
       "      <td>0.007757</td>\n",
       "      <td>0.544017</td>\n",
       "      <td>0.551633</td>\n",
       "      <td>0.548159</td>\n",
       "      <td>0.719096</td>\n",
       "      <td>0.958237</td>\n",
       "      <td>0.955895</td>\n",
       "      <td>0.785677</td>\n",
       "      <td>0.793564</td>\n",
       "      <td>0.802093</td>\n",
       "      <td>0.801524</td>\n",
       "      <td>0.7666</td>\n",
       "      <td>0.78945</td>\n",
       "      <td>0.788602</td>\n",
       "      <td>0.027621</td>\n",
       "    </tr>\n",
       "  </tbody>\n",
       "</table>\n",
       "</div>"
      ],
      "text/plain": [
       "                               open      high       low     close    volume  \\\n",
       "timestamp                                                                     \n",
       "2025-04-19 18:00:00+03:00  0.782787  0.775783  0.785949  0.784712  0.007757   \n",
       "\n",
       "                               macd  macd_signal  macd_diff       rsi  \\\n",
       "timestamp                                                               \n",
       "2025-04-19 18:00:00+03:00  0.544017     0.551633   0.548159  0.719096   \n",
       "\n",
       "                            stoch_k   stoch_d      ma_9     ma_50    ma_100  \\\n",
       "timestamp                                                                     \n",
       "2025-04-19 18:00:00+03:00  0.958237  0.955895  0.785677  0.793564  0.802093   \n",
       "\n",
       "                             ma_200  bb_upper  bb_lower  bb_middle  bb_width  \n",
       "timestamp                                                                     \n",
       "2025-04-19 18:00:00+03:00  0.801524    0.7666   0.78945   0.788602  0.027621  "
      ]
     },
     "execution_count": 256,
     "metadata": {},
     "output_type": "execute_result"
    }
   ],
   "source": [
    "# Calculate the delta between the predicted and actual values in the test set\n",
    "delta = (y_test - predictions).mean()"
   ]
  },
  {
   "cell_type": "code",
   "execution_count": 217,
   "id": "16aee77b",
   "metadata": {},
   "outputs": [
    {
     "data": {
      "image/png": "[encoded data removed]",
      "text/plain": [
       "<Figure size 640x480 with 1 Axes>"
      ]
     },
     "metadata": {},
     "output_type": "display_data"
    }
   ],
   "source": [
    "import matplotlib.pyplot as plt\n",
    "\n",
    "# Plot the actual vs predicted values\n",
    "plt.plot(y_test, label='Actual')\n",
    "plt.plot(y_pred, label='Predicted')\n",
    "plt.legend()\n",
    "plt.show()\n"
   ]
  },
  {
   "cell_type": "code",
   "execution_count": 264,
   "id": "51d7c65c",
   "metadata": {},
   "outputs": [
    {
     "name": "stdout",
     "output_type": "stream",
     "text": [
      "\u001b[1m419/419\u001b[0m \u001b[32m━━━━━━━━━━━━━━━━━━━━\u001b[0m\u001b[37m\u001b[0m \u001b[1m1s\u001b[0m 3ms/step\n",
      "Mean delta between actual and predicted values: 0.01358243015517592\n"
     ]
    }
   ],
   "source": [
    "# Make predictions on the test set\n",
    "y_pred = model.predict(X_test)\n",
    "\n",
    "# Calculate the delta (difference) between actual and predicted values\n",
    "delta = np.abs(y_test - y_pred.flatten())\n",
    "\n",
    "# Calculate the mean delta\n",
    "mean_delta = np.mean(delta)\n",
    "\n",
    "# Print the mean delta\n",
    "print(f\"Mean delta between actual and predicted values: {mean_delta}\")"
   ]
  },
  {
   "cell_type": "code",
   "execution_count": 265,
   "id": "4892f70d",
   "metadata": {},
   "outputs": [
    {
     "name": "stdout",
     "output_type": "stream",
     "text": [
      "Mean delta between actual and predicted values (original scale): 4303.155035676162\n"
     ]
    }
   ],
   "source": [
    "# Calculate the delta (difference) between actual and predicted values\n",
    "delta = np.abs(y_test - y_pred.flatten())\n",
    "\n",
    "# Reverse the scaling for the mean delta\n",
    "# Reshape the mean delta to match the scaler's expected input\n",
    "mean_delta_scaled = np.mean(delta)\n",
    "mean_delta_original = scaler.inverse_transform(\n",
    "    np.array([[mean_delta_scaled] + [0] * (len(features) - 1)])\n",
    ")[0][0]  # Extract the unscaled value for the 'close' feature\n",
    "\n",
    "# Print the original mean delta (unscaled)\n",
    "print(f\"Mean delta between actual and predicted values (original scale): {mean_delta_original}\")"
   ]
  }
 ],
 "metadata": {
  "kernelspec": {
   "display_name": "trading_venv",
   "language": "python",
   "name": "python3"
  },
  "language_info": {
   "codemirror_mode": {
    "name": "ipython",
    "version": 3
   },
   "file_extension": ".py",
   "mimetype": "text/x-python",
   "name": "python",
   "nbconvert_exporter": "python",
   "pygments_lexer": "ipython3",
   "version": "3.11.9"
  }
 },
 "nbformat": 4,
 "nbformat_minor": 5
}
